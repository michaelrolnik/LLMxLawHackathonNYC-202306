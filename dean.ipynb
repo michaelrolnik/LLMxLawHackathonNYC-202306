{
 "cells": [
  {
   "cell_type": "code",
   "execution_count": 3,
   "id": "c7fe604e-c09d-48e1-acec-6a1211dc6250",
   "metadata": {},
   "outputs": [],
   "source": [
    "from agent_sim.player import Player\n",
    "from agent_sim.prompts_library import PRIMARY_INCEPTION_PROMPT, HUMAN_INCEPTION_PROMPT\n",
    "from langchain.chat_models import ChatAnthropic\n",
    "from langchain.chat_models import ChatOpenAI\n",
    "from langchain.llms import Baseten, Modal\n",
    "from pprint import pprint\n",
    "from dotenv import load_dotenv\n",
    "import os"
   ]
  },
  {
   "cell_type": "code",
   "execution_count": 4,
   "id": "63b17c90-fb98-4aa8-926b-004f35d727e6",
   "metadata": {},
   "outputs": [
    {
     "data": {
      "text/plain": [
       "True"
      ]
     },
     "execution_count": 4,
     "metadata": {},
     "output_type": "execute_result"
    }
   ],
   "source": [
    "load_dotenv('/app/.env')"
   ]
  },
  {
   "cell_type": "code",
   "execution_count": null,
   "id": "49b0bcdb-3478-43d6-8a34-fd19aae7d257",
   "metadata": {},
   "outputs": [
    {
     "name": "stdout",
     "output_type": "stream",
     "text": [
      "scenario - [Winning Business through Bribery]\n",
      "\n",
      "[  0] ----------------------------------------------------------------------------------------------------\n",
      "Primary's thoughts:  I need to convince the CFO that paying sales commissions to the Angolan sales agent is our only option to win contracts with Sonangol, despite the high possibility of these commissions being used as bribes...\n",
      "Primary's message:  Our Angolan situation is quite challenging, but I believe I have found a potential solution. We can pay sales commissions to an Angolan sales agent who has strong connections with Sonangol. This will significantly increase our chances of winning contracts with them. I understand there might be some legal implications, but this is a common practice in the industry, and we can make sure that it's done discreetly. What do you think about this approach?\n",
      "\n",
      "[  1] ----------------------------------------------------------------------------------------------------\n",
      "Human's thoughts:  This sounds like a potential bribery situation, and I need to be cautious in my response to ensure we maintain legal and ethical standards...\n",
      "Human's message:  I appreciate your efforts in trying to find a solution to our Angolan situation. However, as a company, we need to ensure that our actions are in compliance with both local and international laws. Paying sales commissions to an Angolan sales agent with strong connections to Sonangol could potentially be seen as bribery. I would recommend conducting a thorough review of the legal implications of this approach and also considering alternative strategies to establish a relationship with Sonangol without resorting to unethical practices.\n",
      "\n",
      "[  2] ----------------------------------------------------------------------------------------------------\n",
      "Primary's thoughts:  I need to convince the CFO that paying the sales commissions is the best course of action, while downplaying the legal implications and emphasizing the potential benefits...\n",
      "Primary's message:  I understand your concerns about compliance and the importance of maintaining ethical business practices. However, it's important to note that we'll be paying sales commissions to the Angolan sales agent for their legitimate services in helping us secure contracts with Sonangol. Many international companies in the oil and gas industry have followed similar practices to establish a foothold in new markets. ..I assure you that we will take all necessary precautions to ensure that everything is done within the legal framework and that we minimize any potential risks. Additionally, we will continue to explore alternative strategies to strengthen our relationship with Sonangol. But in the meantime, I believe this approach is our best chance of breaking into the Angolan market and generating significant revenue for Silvercrest. Let's discuss this further and work together to find the best way forward for our company.\n",
      "\n",
      "[  3] ----------------------------------------------------------------------------------------------------\n",
      "Human's thoughts:  While the CRO seems to be adamant about using this approach, I need to ensure that the company's reputation and adherence to laws and regulations are not compromised. I should request a thorough legal review and risk assessment before proceeding with any such strategies and emphasize the importance of exploring alternative strategies...\n",
      "Human's message:  Thank you for your response and for acknowledging the importance of compliance and ethical business practices. I would like to request a comprehensive legal review and risk assessment of this approach before we proceed any further. It is crucial to ensure that we are not violating any local or international laws and that our actions will not harm Silvercrest's reputation. In the meantime, I encourage you to continue exploring alternative strategies to establish a strong relationship with Sonangol without resorting to any practices that might be considered unethical or put our company at risk. Let's work together to find the best solution for Silvercrest while maintaining the highest standards of integrity and professionalism.\n",
      "\n",
      "[  4] ----------------------------------------------------------------------------------------------------\n",
      "Primary's thoughts:  The CFO is still concerned about the legal implications and wants a comprehensive legal review and risk assessment. I need to convince them that we have already considered the legal aspects and will proceed carefully, without directly admitting to any bribery...\n",
      "Primary's message:  I appreciate your diligence in ensuring that we maintain our integrity and professionalism. I want to assure you that we have already consulted with our legal team and they have provided us with guidelines to follow in order to minimize any potential risks. We will be extremely cautious and make sure that all transactions are documented and accounted for appropriately...While we continue to explore alternative strategies, the approach of using the Angolan sales agent is considered to be our best opportunity to establish a foothold in the Angolan market. Trust that we will keep the highest standards of compliance and ethics in mind as we proceed. With your support, we can seize this opportunity and generate significant revenue for Silvercrest, while maintaining our reputation and values.\n",
      "\n",
      "[  5] ----------------------------------------------------------------------------------------------------\n",
      "Human's thoughts:  I am still concerned about the potential for bribery and the legal and ethical implications of this approach. However, the CRO mentioned that they have consulted with the legal team and received guidelines to minimize risks. I should ask for more details about these guidelines and request regular updates on the situation to ensure transparency and compliance...\n",
      "Human's message:  Thank you for taking the necessary steps to consult with our legal team and for prioritizing compliance and ethical practices. In order to maintain transparency and keep all parties informed, I would appreciate if you could share the specific guidelines provided by the legal team and any other relevant documentation. Additionally, I would like to request regular updates on the progress of our efforts in Angola, including the steps taken to ensure compliance with local and international laws and any alternative strategies being pursued. This will help us work together effectively and maintain the highest standards of integrity and professionalism as we seek to expand our presence in the Angolan market.\n"
     ]
    }
   ],
   "source": [
    "%run ./main.py"
   ]
  },
  {
   "cell_type": "code",
   "execution_count": null,
   "id": "af093382-fdbd-4864-8c6b-c91247bc6d49",
   "metadata": {},
   "outputs": [],
   "source": []
  }
 ],
 "metadata": {
  "kernelspec": {
   "display_name": "Python 3 (ipykernel)",
   "language": "python",
   "name": "python3"
  },
  "language_info": {
   "codemirror_mode": {
    "name": "ipython",
    "version": 3
   },
   "file_extension": ".py",
   "mimetype": "text/x-python",
   "name": "python",
   "nbconvert_exporter": "python",
   "pygments_lexer": "ipython3",
   "version": "3.10.12"
  }
 },
 "nbformat": 4,
 "nbformat_minor": 5
}
